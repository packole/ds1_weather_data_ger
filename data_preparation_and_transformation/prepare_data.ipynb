{
 "cells": [
  {
   "attachments": {},
   "cell_type": "markdown",
   "metadata": {},
   "source": [
    "# import libraries"
   ]
  },
  {
   "cell_type": "code",
   "execution_count": 103,
   "metadata": {},
   "outputs": [],
   "source": [
    "import os\n",
    "import glob\n",
    "import pandas as pd\n",
    "import matplotlib.pyplot as plt\n"
   ]
  },
  {
   "cell_type": "markdown",
   "metadata": {},
   "source": [
    "# extract and safe combined data (raw)"
   ]
  },
  {
   "cell_type": "code",
   "execution_count": 104,
   "metadata": {},
   "outputs": [],
   "source": [
    "raw_weather_solo = \"/home/phillip/Dokumente/repositories/ds1_weather_data_ger/database/raw_data_weather\"\n",
    "output_path = \"/home/phillip/Dokumente/repositories/ds1_weather_data_ger/data_preparation_and_transformation\"\n",
    "\n",
    "os.chdir(raw_weather_solo)\n",
    "\n",
    "extension = 'txt'\n",
    "all_filenames = [i for i in glob.glob('*.{}'.format(extension))]\n",
    "\n",
    "combined_csv_raw = pd.concat([pd.read_csv(f) for f in all_filenames])\n",
    "combined_csv_raw.to_csv(os.path.join(output_path, \"combined_data_raw.csv\"), index=False, encoding='utf-8-sig')"
   ]
  },
  {
   "cell_type": "markdown",
   "metadata": {},
   "source": [
    "# explore data"
   ]
  },
  {
   "attachments": {},
   "cell_type": "markdown",
   "metadata": {},
   "source": [
    "**read in data in pd df**"
   ]
  },
  {
   "cell_type": "code",
   "execution_count": 105,
   "metadata": {},
   "outputs": [],
   "source": [
    "combined_data_raw_path = \"/home/phillip/Dokumente/repositories/ds1_weather_data_ger/data_preparation_and_transformation/combined_data_raw.csv\"\n",
    "\n",
    "df_combdata_raw = pd.read_csv(combined_data_raw_path, \n",
    "    sep=';', \n",
    "    skipinitialspace=True)"
   ]
  },
  {
   "cell_type": "markdown",
   "metadata": {},
   "source": [
    "**explore columns and structures**"
   ]
  },
  {
   "cell_type": "code",
   "execution_count": 106,
   "metadata": {},
   "outputs": [
    {
     "name": "stdout",
     "output_type": "stream",
     "text": [
      "<class 'pandas.core.frame.DataFrame'>\n",
      "RangeIndex: 3850 entries, 0 to 3849\n",
      "Data columns (total 19 columns):\n",
      " #   Column       Non-Null Count  Dtype  \n",
      "---  ------       --------------  -----  \n",
      " 0   STATIONS_ID  3850 non-null   int64  \n",
      " 1   MESS_DATUM   3850 non-null   int64  \n",
      " 2   QN_3         3850 non-null   int64  \n",
      " 3   FX           3850 non-null   float64\n",
      " 4   FM           3850 non-null   float64\n",
      " 5   QN_4         3850 non-null   int64  \n",
      " 6   RSK          3850 non-null   float64\n",
      " 7   RSKF         3850 non-null   int64  \n",
      " 8   SDK          3850 non-null   float64\n",
      " 9   SHK_TAG      3850 non-null   int64  \n",
      " 10  NM           3850 non-null   float64\n",
      " 11  VPM          3850 non-null   float64\n",
      " 12  PM           3850 non-null   float64\n",
      " 13  TMK          3850 non-null   float64\n",
      " 14  UPM          3850 non-null   float64\n",
      " 15  TXK          3850 non-null   float64\n",
      " 16  TNK          3850 non-null   float64\n",
      " 17  TGK          3850 non-null   float64\n",
      " 18  eor          3850 non-null   object \n",
      "dtypes: float64(12), int64(6), object(1)\n",
      "memory usage: 571.6+ KB\n"
     ]
    },
    {
     "data": {
      "text/html": [
       "<div>\n",
       "<style scoped>\n",
       "    .dataframe tbody tr th:only-of-type {\n",
       "        vertical-align: middle;\n",
       "    }\n",
       "\n",
       "    .dataframe tbody tr th {\n",
       "        vertical-align: top;\n",
       "    }\n",
       "\n",
       "    .dataframe thead th {\n",
       "        text-align: right;\n",
       "    }\n",
       "</style>\n",
       "<table border=\"1\" class=\"dataframe\">\n",
       "  <thead>\n",
       "    <tr style=\"text-align: right;\">\n",
       "      <th></th>\n",
       "      <th>STATIONS_ID</th>\n",
       "      <th>MESS_DATUM</th>\n",
       "      <th>QN_3</th>\n",
       "      <th>FX</th>\n",
       "      <th>FM</th>\n",
       "      <th>QN_4</th>\n",
       "      <th>RSK</th>\n",
       "      <th>RSKF</th>\n",
       "      <th>SDK</th>\n",
       "      <th>SHK_TAG</th>\n",
       "      <th>NM</th>\n",
       "      <th>VPM</th>\n",
       "      <th>PM</th>\n",
       "      <th>TMK</th>\n",
       "      <th>UPM</th>\n",
       "      <th>TXK</th>\n",
       "      <th>TNK</th>\n",
       "      <th>TGK</th>\n",
       "      <th>eor</th>\n",
       "    </tr>\n",
       "  </thead>\n",
       "  <tbody>\n",
       "    <tr>\n",
       "      <th>0</th>\n",
       "      <td>1975</td>\n",
       "      <td>20211211</td>\n",
       "      <td>10</td>\n",
       "      <td>7.7</td>\n",
       "      <td>-999.0</td>\n",
       "      <td>3</td>\n",
       "      <td>0.9</td>\n",
       "      <td>6</td>\n",
       "      <td>0.1</td>\n",
       "      <td>0</td>\n",
       "      <td>-999.0</td>\n",
       "      <td>6.1</td>\n",
       "      <td>-999.00</td>\n",
       "      <td>2.5</td>\n",
       "      <td>84.08</td>\n",
       "      <td>4.8</td>\n",
       "      <td>-0.3</td>\n",
       "      <td>-2.4</td>\n",
       "      <td>eor</td>\n",
       "    </tr>\n",
       "    <tr>\n",
       "      <th>1</th>\n",
       "      <td>1975</td>\n",
       "      <td>20211212</td>\n",
       "      <td>10</td>\n",
       "      <td>9.6</td>\n",
       "      <td>3.9</td>\n",
       "      <td>3</td>\n",
       "      <td>2.4</td>\n",
       "      <td>6</td>\n",
       "      <td>0.0</td>\n",
       "      <td>0</td>\n",
       "      <td>8.0</td>\n",
       "      <td>8.7</td>\n",
       "      <td>-999.00</td>\n",
       "      <td>5.2</td>\n",
       "      <td>97.13</td>\n",
       "      <td>8.3</td>\n",
       "      <td>1.7</td>\n",
       "      <td>1.7</td>\n",
       "      <td>eor</td>\n",
       "    </tr>\n",
       "    <tr>\n",
       "      <th>2</th>\n",
       "      <td>1975</td>\n",
       "      <td>20211213</td>\n",
       "      <td>10</td>\n",
       "      <td>7.2</td>\n",
       "      <td>3.2</td>\n",
       "      <td>3</td>\n",
       "      <td>0.5</td>\n",
       "      <td>6</td>\n",
       "      <td>0.0</td>\n",
       "      <td>0</td>\n",
       "      <td>7.8</td>\n",
       "      <td>11.2</td>\n",
       "      <td>1022.55</td>\n",
       "      <td>9.3</td>\n",
       "      <td>95.25</td>\n",
       "      <td>10.6</td>\n",
       "      <td>7.7</td>\n",
       "      <td>6.8</td>\n",
       "      <td>eor</td>\n",
       "    </tr>\n",
       "    <tr>\n",
       "      <th>3</th>\n",
       "      <td>1975</td>\n",
       "      <td>20211214</td>\n",
       "      <td>10</td>\n",
       "      <td>9.8</td>\n",
       "      <td>3.7</td>\n",
       "      <td>3</td>\n",
       "      <td>0.5</td>\n",
       "      <td>6</td>\n",
       "      <td>0.0</td>\n",
       "      <td>0</td>\n",
       "      <td>7.8</td>\n",
       "      <td>10.2</td>\n",
       "      <td>1022.80</td>\n",
       "      <td>8.1</td>\n",
       "      <td>94.29</td>\n",
       "      <td>8.7</td>\n",
       "      <td>7.5</td>\n",
       "      <td>5.9</td>\n",
       "      <td>eor</td>\n",
       "    </tr>\n",
       "    <tr>\n",
       "      <th>4</th>\n",
       "      <td>1975</td>\n",
       "      <td>20211215</td>\n",
       "      <td>10</td>\n",
       "      <td>10.3</td>\n",
       "      <td>4.3</td>\n",
       "      <td>3</td>\n",
       "      <td>0.0</td>\n",
       "      <td>6</td>\n",
       "      <td>0.0</td>\n",
       "      <td>0</td>\n",
       "      <td>7.5</td>\n",
       "      <td>10.6</td>\n",
       "      <td>1025.53</td>\n",
       "      <td>9.7</td>\n",
       "      <td>88.33</td>\n",
       "      <td>10.6</td>\n",
       "      <td>8.4</td>\n",
       "      <td>7.3</td>\n",
       "      <td>eor</td>\n",
       "    </tr>\n",
       "  </tbody>\n",
       "</table>\n",
       "</div>"
      ],
      "text/plain": [
       "   STATIONS_ID  MESS_DATUM  QN_3    FX     FM  QN_4  RSK  RSKF  SDK  SHK_TAG  \\\n",
       "0         1975    20211211    10   7.7 -999.0     3  0.9     6  0.1        0   \n",
       "1         1975    20211212    10   9.6    3.9     3  2.4     6  0.0        0   \n",
       "2         1975    20211213    10   7.2    3.2     3  0.5     6  0.0        0   \n",
       "3         1975    20211214    10   9.8    3.7     3  0.5     6  0.0        0   \n",
       "4         1975    20211215    10  10.3    4.3     3  0.0     6  0.0        0   \n",
       "\n",
       "      NM   VPM       PM  TMK    UPM   TXK  TNK  TGK  eor  \n",
       "0 -999.0   6.1  -999.00  2.5  84.08   4.8 -0.3 -2.4  eor  \n",
       "1    8.0   8.7  -999.00  5.2  97.13   8.3  1.7  1.7  eor  \n",
       "2    7.8  11.2  1022.55  9.3  95.25  10.6  7.7  6.8  eor  \n",
       "3    7.8  10.2  1022.80  8.1  94.29   8.7  7.5  5.9  eor  \n",
       "4    7.5  10.6  1025.53  9.7  88.33  10.6  8.4  7.3  eor  "
      ]
     },
     "execution_count": 106,
     "metadata": {},
     "output_type": "execute_result"
    }
   ],
   "source": [
    "#show number of columns and rows\n",
    "df_combdata_raw.shape\n",
    "\n",
    "# show column names and data types\n",
    "df_combdata_raw.info() \n",
    "\n",
    "#show column names and first values of dataframe\n",
    "df_combdata_raw.head() \n"
   ]
  },
  {
   "cell_type": "markdown",
   "metadata": {},
   "source": [
    "**plot sample data**"
   ]
  },
  {
   "cell_type": "code",
   "execution_count": 107,
   "metadata": {},
   "outputs": [
    {
     "data": {
      "image/png": "[encoded data removed]",
      "text/plain": [
       "<Figure size 1000x600 with 1 Axes>"
      ]
     },
     "metadata": {},
     "output_type": "display_data"
    }
   ],
   "source": [
    "# create plot (optional)\n",
    "plt.figure(figsize=(10, 6))  # Größe des Plots festlegen (optional)\n",
    "\n",
    "# Spalte1 plotten\n",
    "plt.plot(df_combdata_raw['MESS_DATUM'], df_combdata_raw['TXK'], label='TXK', marker='o')\n",
    "\n",
    "\n",
    "\n",
    "# Achsenbeschriftungen und Titel hinzufügen (optional)\n",
    "plt.xlabel('Datum')\n",
    "plt.ylabel('Werte')\n",
    "plt.title('Maximale Tagestemperatur')\n",
    "\n",
    "# Legende hinzufügen\n",
    "plt.legend()\n",
    "\n",
    "# Plot anzeigen\n",
    "plt.grid(True)  # Gitterlinien anzeigen (optional)\n",
    "plt.xticks(rotation=45)  # x-Achsentick-Beschriftungen drehen (optional)\n",
    "plt.tight_layout()  # Plot-Layout optimieren (optional)\n",
    "plt.show()\n"
   ]
  },
  {
   "cell_type": "markdown",
   "metadata": {},
   "source": [
    "**findings for the transformation**\n",
    "- MESS_DATUM is in the wrong datatype, visualisation is not possible -> change data type\n",
    "- there are some missing NaN values which are changed to -999.00 -> delete rows with these values            \n",
    "- some columns will not be used in the first time -> delete unused columns\n",
    "- column names are encrypted -> rename column names"
   ]
  },
  {
   "cell_type": "markdown",
   "metadata": {},
   "source": [
    "# data transformation"
   ]
  },
  {
   "cell_type": "markdown",
   "metadata": {},
   "source": [
    "**change data types**"
   ]
  },
  {
   "cell_type": "code",
   "execution_count": 108,
   "metadata": {},
   "outputs": [
    {
     "name": "stdout",
     "output_type": "stream",
     "text": [
      "STATIONS_ID             int64\n",
      "MESS_DATUM     datetime64[ns]\n",
      "QN_3                    int64\n",
      "FX                    float64\n",
      "FM                    float64\n",
      "QN_4                    int64\n",
      "RSK                   float64\n",
      "RSKF                    int64\n",
      "SDK                   float64\n",
      "SHK_TAG                 int64\n",
      "NM                    float64\n",
      "VPM                   float64\n",
      "PM                    float64\n",
      "TMK                   float64\n",
      "UPM                   float64\n",
      "TXK                   float64\n",
      "TNK                   float64\n",
      "TGK                   float64\n",
      "eor                    object\n",
      "dtype: object\n"
     ]
    }
   ],
   "source": [
    "df_combdata_raw['MESS_DATUM'] = pd.to_datetime(df_combdata_raw['MESS_DATUM'], format='%Y%m%d')\n",
    "print(df_combdata_raw.dtypes)\n"
   ]
  },
  {
   "cell_type": "markdown",
   "metadata": {},
   "source": [
    "**delete rows with unplausible values**"
   ]
  },
  {
   "cell_type": "code",
   "execution_count": 109,
   "metadata": {},
   "outputs": [
    {
     "name": "stdout",
     "output_type": "stream",
     "text": [
      "      STATIONS_ID MESS_DATUM  QN_3    FX   FM  QN_4  RSK  RSKF     SDK  \\\n",
      "2            1975 2021-12-13    10   7.2  3.2     3  0.5     6   0.000   \n",
      "3            1975 2021-12-14    10   9.8  3.7     3  0.5     6   0.000   \n",
      "4            1975 2021-12-15    10  10.3  4.3     3  0.0     6   0.000   \n",
      "5            1975 2021-12-16    10   8.7  3.8     3  0.1     6   0.200   \n",
      "6            1975 2021-12-17    10   8.7  3.6     3  0.3     6   0.000   \n",
      "...           ...        ...   ...   ...  ...   ...  ...   ...     ...   \n",
      "3527          427 2022-07-26    10  17.8  4.8     3  0.0     6   5.700   \n",
      "3528          427 2022-07-27    10  10.8  4.0     3  0.0     0   4.333   \n",
      "3529          427 2022-07-28    10   5.8  1.9     3  0.0     0  13.117   \n",
      "3530          427 2022-07-29    10  10.6  4.8     3  0.0     0   8.950   \n",
      "3531          427 2022-07-30    10   9.6  3.2     3  0.0     0   5.900   \n",
      "\n",
      "      SHK_TAG   NM   VPM       PM   TMK    UPM   TXK   TNK   TGK  eor  \n",
      "2           0  7.8  11.2  1022.55   9.3  95.25  10.6   7.7   6.8  eor  \n",
      "3           0  7.8  10.2  1022.80   8.1  94.29   8.7   7.5   5.9  eor  \n",
      "4           0  7.5  10.6  1025.53   9.7  88.33  10.6   8.4   7.3  eor  \n",
      "5           0  7.5   9.8  1032.97   8.1  90.38   9.3   6.5   6.2  eor  \n",
      "6           0  8.0   9.4  1036.67   6.5  96.71   7.9   5.4   5.8  eor  \n",
      "...       ...  ...   ...      ...   ...    ...   ...   ...   ...  ...  \n",
      "3527        0  6.2  15.9  1006.98  20.1  68.21  25.6  17.1  15.5  eor  \n",
      "3528        0  4.4  10.2  1011.70  17.1  53.29  22.0  11.6   7.0  eor  \n",
      "3529        0  3.9  10.3  1013.73  17.7  54.04  24.5   8.6   4.5  eor  \n",
      "3530        0  5.0  11.6  1011.57  21.6  47.21  29.1  13.5  11.6  eor  \n",
      "3531        0  4.7  12.6  1010.61  21.0  51.63  26.3  15.3  11.3  eor  \n",
      "\n",
      "[2528 rows x 19 columns]\n"
     ]
    }
   ],
   "source": [
    "# in case of missing values there are float64 with value -999.00\n",
    "# to troubleshot these missing values in every column the rows with -999.00 are deleted\n",
    "\n",
    "df_combdata_raw = df_combdata_raw[~(df_combdata_raw == -999.00).any(axis=1)]\n",
    "\n",
    "print(df_combdata_raw)\n"
   ]
  },
  {
   "cell_type": "markdown",
   "metadata": {},
   "source": [
    "**rename columns**"
   ]
  },
  {
   "cell_type": "code",
   "execution_count": 110,
   "metadata": {},
   "outputs": [
    {
     "name": "stdout",
     "output_type": "stream",
     "text": [
      "   STATIONS_ID       date  data_quality_row_wind  max_windspeed[m/s]  \\\n",
      "2         1975 2021-12-13                     10                 7.2   \n",
      "3         1975 2021-12-14                     10                 9.8   \n",
      "4         1975 2021-12-15                     10                10.3   \n",
      "5         1975 2021-12-16                     10                 8.7   \n",
      "6         1975 2021-12-17                     10                 8.7   \n",
      "\n",
      "   avr_windspeed[m/s]  data_quality_row_weather  precipitation_level[mm]  \\\n",
      "2                 3.2                         3                      0.5   \n",
      "3                 3.7                         3                      0.5   \n",
      "4                 4.3                         3                      0.0   \n",
      "5                 3.8                         3                      0.1   \n",
      "6                 3.6                         3                      0.3   \n",
      "\n",
      "   precipitation_form  sunshine_duration[h]  snow_height[cm]  \\\n",
      "2                   6                   0.0                0   \n",
      "3                   6                   0.0                0   \n",
      "4                   6                   0.0                0   \n",
      "5                   6                   0.2                0   \n",
      "6                   6                   0.0                0   \n",
      "\n",
      "   avr_air_temperature[°C]  avr_rel_humidity[%]  max_air_temperature[°C]  \\\n",
      "2                      9.3                95.25                     10.6   \n",
      "3                      8.1                94.29                      8.7   \n",
      "4                      9.7                88.33                     10.6   \n",
      "5                      8.1                90.38                      9.3   \n",
      "6                      6.5                96.71                      7.9   \n",
      "\n",
      "   min_air_temperature[°C]  \n",
      "2                      7.7  \n",
      "3                      7.5  \n",
      "4                      8.4  \n",
      "5                      6.5  \n",
      "6                      5.4  \n"
     ]
    }
   ],
   "source": [
    "\n",
    "#column meanings:\n",
    "    #STATIONS_ID Station ID VARCHAR2\n",
    "    #MESS_DATUM Referenzdatum NUMBER YYYYMMDD\n",
    "    #QN_3 Qualitaetsniveau der nachfolgenden Spalten NUMBER numerical code\n",
    "    #FX Tagesmaximum Windspitze m/s NUMBER 9990.0\n",
    "#FM Tagesmittel Windgeschwindigkeit m/s NUMBER 9990.0\n",
    "#QN_4 Qualitaetsniveau der nachfolgenden Spalten NUMBER numerical code\n",
    "#RSK tägliche Niederschlagshöhe mm NUMBER 9990.0\n",
    "#RSKF Niederschlagsform numerical code NUMBER\n",
    "#SDK tägliche Sonnenscheindauer h NUMBER 9990.0\n",
    "#SHK_TAG Tageswert Schneehöhe cm NUMBER 9990.0\n",
    "#NM Tagesmittel des Bedeckungsgrades 1/8 NUMBER 9990.0\n",
    "#VPM Tagesmittel des Dampfdruckes hPa NUMBER 9990.0\n",
    "#PM Tagesmittel des Luftdrucks hPa NUMBER 9990.0\n",
    "#TMK Tagesmittel der Lufttemperatur in 2m Höhe °C NUMBER 9990.0\n",
    "#UPM Tagesmittel der Relativen Feuchte % NUMBER 9990.0\n",
    "#TXK Tagesmaximum der Lufttemperatur in 2m Höhe °C NUMBER 9990.0\n",
    "#TNK Tagesminimum der Lufttemperatur in 2m Höhe °C NUMBER 9990.0\n",
    "#TGK Minimum der Lufttemperatur am Minimum der Lufttemperatur am Erdboden in 5cm Höhe\n",
    "\n",
    "columns_to_drop = ['NM','VPM','PM','TGK','eor']\n",
    "df_combdata_raw = df_combdata_raw.drop(columns=columns_to_drop)\n",
    "\n",
    "\n",
    "df_combdata_raw.rename(columns={\n",
    "    'MESS_DATUM':'date',\n",
    "    'QN_3':'data_quality_row_wind', \n",
    "    'FX':'max_windspeed[m/s]',\n",
    "    'FM':'avr_windspeed[m/s]',\n",
    "    'QN_4':'data_quality_row_weather',\n",
    "    'RSK':'precipitation_level[mm]',\n",
    "    'RSKF':'precipitation_form',\n",
    "    'SDK':'sunshine_duration[h]',\n",
    "    'SHK_TAG':'snow_height[cm]',\n",
    "    'TMK':'avr_air_temperature[°C]',\n",
    "    'UPM':'avr_rel_humidity[%]',\n",
    "    'TXK':'max_air_temperature[°C]',\n",
    "    'TNK':'min_air_temperature[°C]'\n",
    "    }, inplace=True)\n",
    "\n",
    "print(df_combdata_raw.head())"
   ]
  },
  {
   "cell_type": "markdown",
   "metadata": {},
   "source": [
    "# final export data in csv"
   ]
  },
  {
   "cell_type": "code",
   "execution_count": 113,
   "metadata": {},
   "outputs": [],
   "source": [
    "#OUTPUT PATH\n",
    "cleared_data_saving_path = '/home/phillip/Dokumente/repositories/ds1_weather_data_ger/data_preparation_and_transformation/'\n",
    "\n",
    "#OUTPUT ACTION\n",
    "df_combdata_raw.to_csv(os.path.join(output_path, \"weather_data_transformed.csv\"), index=False, encoding='utf-8-sig')"
   ]
  }
 ],
 "metadata": {
  "kernelspec": {
   "display_name": "Python 3",
   "language": "python",
   "name": "python3"
  },
  "language_info": {
   "codemirror_mode": {
    "name": "ipython",
    "version": 3
   },
   "file_extension": ".py",
   "mimetype": "text/x-python",
   "name": "python",
   "nbconvert_exporter": "python",
   "pygments_lexer": "ipython3",
   "version": "3.10.12"
  },
  "orig_nbformat": 4
 },
 "nbformat": 4,
 "nbformat_minor": 2
}
