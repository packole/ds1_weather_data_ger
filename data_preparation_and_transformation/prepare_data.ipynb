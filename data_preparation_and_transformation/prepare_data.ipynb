{
 "cells": [
  {
   "attachments": {},
   "cell_type": "markdown",
   "metadata": {},
   "source": [
    "# define working directories and import libraries"
   ]
  },
  {
   "cell_type": "code",
   "execution_count": 9,
   "metadata": {},
   "outputs": [],
   "source": [
    "import os\n",
    "import glob\n",
    "import pandas as pd\n",
    "\n",
    "raw_weather = \"/home/phillip/Dokumente/repositories/ds1_weather_data_ger/database/raw_data_weather\"\n",
    "output_path = \"/home/phillip/Dokumente/repositories/ds1_weather_data_ger/data_preparation_and_transformation\""
   ]
  },
  {
   "cell_type": "markdown",
   "metadata": {},
   "source": [
    "# extract data"
   ]
  },
  {
   "cell_type": "code",
   "execution_count": 10,
   "metadata": {},
   "outputs": [],
   "source": [
    "os.chdir(raw_weather)\n",
    "\n",
    "extension = 'txt'\n",
    "all_filenames = [i for i in glob.glob('*.{}'.format(extension))]\n",
    "\n",
    "combined_csv = pd.concat([pd.read_csv(f) for f in all_filenames])\n",
    "combined_csv.to_csv(os.path.join(output_path, \"combined_data.csv\"), index=False, encoding='utf-8-sig')"
   ]
  },
  {
   "cell_type": "markdown",
   "metadata": {},
   "source": [
    "# explore data"
   ]
  },
  {
   "attachments": {},
   "cell_type": "markdown",
   "metadata": {},
   "source": [
    "**combine all files in the list and export as CSV**"
   ]
  },
  {
   "cell_type": "code",
   "execution_count": 27,
   "metadata": {},
   "outputs": [],
   "source": [
    "combined_csv = pd.concat([pd.read_csv(f) for f in all_filenames ])\n",
    "combined_csv.to_csv( \"combined_data.csv\", index=False, encoding='utf-8-sig')"
   ]
  },
  {
   "cell_type": "markdown",
   "metadata": {},
   "source": [
    "**read in combined_data.csv in pd**"
   ]
  },
  {
   "cell_type": "code",
   "execution_count": 28,
   "metadata": {},
   "outputs": [
    {
     "name": "stdout",
     "output_type": "stream",
     "text": [
      "      STATIONS_ID  MESS_DATUM  QN_3    FX   FM  QN_4  RSK  RSKF     SDK  \\\n",
      "0             427    20211211    10   6.2  2.5     3  0.0     0   0.000   \n",
      "1             427    20211212    10   6.9  3.2     3  0.6     6   0.000   \n",
      "2             427    20211213    10   5.0  2.5     3  1.8     6   0.000   \n",
      "3             427    20211214    10   6.2  3.4     3  0.8     6   0.000   \n",
      "4             427    20211215    10   6.7  4.0     3  0.0     6   0.000   \n",
      "...           ...         ...   ...   ...  ...   ...  ...   ...     ...   \n",
      "3845         4928    20230609     1   9.4  2.6     1  0.0     0  13.383   \n",
      "3846         4928    20230610     1   8.8  2.5     1  0.0     0  12.600   \n",
      "3847         4928    20230611     1  11.1  3.7     1  0.0     0  14.983   \n",
      "3848         4928    20230612     1  10.6  3.4     1  0.0     0  14.767   \n",
      "3849         4928    20230613     1  11.7  3.2     1  0.0     0  15.133   \n",
      "\n",
      "      SHK_TAG   NM   VPM       PM   TMK    UPM   TXK   TNK   TGK  eor  \n",
      "0           2  7.8   5.5  1007.69  -1.2  98.08  -0.5  -1.9  -1.7  eor  \n",
      "1           2  7.4   6.1  1016.78   0.5  94.96   4.5  -3.4  -5.8  eor  \n",
      "2           0  7.9   9.6  1019.62   6.5  99.00   8.9   4.5   4.0  eor  \n",
      "3           0  7.4   9.5  1019.99   7.2  94.00   8.0   6.4   5.8  eor  \n",
      "4           0  7.7  10.1  1022.80   8.1  93.58   9.7   6.3   4.4  eor  \n",
      "...       ...  ...   ...      ...   ...    ...   ...   ...   ...  ...  \n",
      "3845        0  0.5  13.0   975.93  20.6  56.96  27.2  11.7   9.7  eor  \n",
      "3846        0  1.6  13.7   976.50  22.1  52.58  28.0  15.3  11.7  eor  \n",
      "3847        0  0.4  12.8   978.29  22.3  50.08  27.8  16.6  14.1  eor  \n",
      "3848        0  0.8  10.7   977.38  21.7  42.83  26.8  16.0  13.0  eor  \n",
      "3849        0  0.0   8.5   975.29  20.0  37.83  25.9  13.3  10.8  eor  \n",
      "\n",
      "[3850 rows x 19 columns]\n"
     ]
    }
   ],
   "source": [
    "df_combdata = pd.read_csv(r'C:\\Users\\phllp\\OneDrive\\Dokumente\\python_dev\\plotly dash\\projects\\01_weather data\\02_PREPARE DATA\\weather_data\\combined_data.csv', sep=';', skipinitialspace=True)\n",
    "print(df_combdata)"
   ]
  },
  {
   "cell_type": "markdown",
   "metadata": {},
   "source": [
    "**change column names and delete columns**"
   ]
  },
  {
   "cell_type": "code",
   "execution_count": 29,
   "metadata": {},
   "outputs": [
    {
     "name": "stdout",
     "output_type": "stream",
     "text": [
      "   STATIONS_ID  MESS_DATUM  Datenqualität Reihe WInd  \\\n",
      "0          427    20211211                        10   \n",
      "1          427    20211212                        10   \n",
      "2          427    20211213                        10   \n",
      "3          427    20211214                        10   \n",
      "4          427    20211215                        10   \n",
      "\n",
      "   Max Windgeschwindigkeit [m/s]  Mittel Windgeschwindigkeit [m/s]  \\\n",
      "0                            6.2                               2.5   \n",
      "1                            6.9                               3.2   \n",
      "2                            5.0                               2.5   \n",
      "3                            6.2                               3.4   \n",
      "4                            6.7                               4.0   \n",
      "\n",
      "   Datenqualität Reihe Wetter  Niederschlagshöhe [mm]  Niederschlagsform  \\\n",
      "0                           3                     0.0                  0   \n",
      "1                           3                     0.6                  6   \n",
      "2                           3                     1.8                  6   \n",
      "3                           3                     0.8                  6   \n",
      "4                           3                     0.0                  6   \n",
      "\n",
      "   Sonnenscheindauer [h]  Schneehöhe [cm]  TMK    UPM  TXK  TNK  TGK  \n",
      "0                    0.0                2 -1.2  98.08 -0.5 -1.9 -1.7  \n",
      "1                    0.0                2  0.5  94.96  4.5 -3.4 -5.8  \n",
      "2                    0.0                0  6.5  99.00  8.9  4.5  4.0  \n",
      "3                    0.0                0  7.2  94.00  8.0  6.4  5.8  \n",
      "4                    0.0                0  8.1  93.58  9.7  6.3  4.4  \n"
     ]
    }
   ],
   "source": [
    "\"\"\"\n",
    "column meanings:\n",
    "STATIONS_ID Station ID VARCHAR2\n",
    "MESS_DATUM Referenzdatum NUMBER YYYYMMDD\n",
    "QN_3 Qualitaetsniveau der nachfolgenden Spalten NUMBER numerical code\n",
    "FX Tagesmaximum Windspitze m/s NUMBER 9990.0\n",
    "FM Tagesmittel Windgeschwindigkeit m/s NUMBER 9990.0\n",
    "QN_4 Qualitaetsniveau der nachfolgenden Spalten NUMBER numerical code\n",
    "RSK tägliche Niederschlagshöhe mm NUMBER 9990.0\n",
    "RSKF Niederschlagsform numerical code NUMBER\n",
    "SDK tägliche Sonnenscheindauer h NUMBER 9990.0\n",
    "SHK_TAG Tageswert Schneehöhe cm NUMBER 9990.0\n",
    "NM Tagesmittel des Bedeckungsgrades 1/8 NUMBER 9990.0\n",
    "VPM Tagesmittel des Dampfdruckes hPa NUMBER 9990.0\n",
    "PM Tagesmittel des Luftdrucks hPa NUMBER 9990.0\n",
    "TMK Tagesmittel der Lufttemperatur in 2m Höhe °C NUMBER 9990.0\n",
    "UPM Tagesmittel der Relativen Feuchte % NUMBER 9990.0\n",
    "TXK Tagesmaximum der Lufttemperatur in 2m Höhe °C NUMBER 9990.0\n",
    "TNK Tagesminimum der Lufttemperatur in 2m Höhe °C NUMBER 9990.0\n",
    "TGK Minimum der Lufttemperatur am Minimum der Lufttemperatur am Erdboden in 5cm Höhe\n",
    "\"\"\"\n",
    "\n",
    "df_combdata.drop(['NM','VPM','PM','eor'], axis=1, inplace=True)\n",
    "\n",
    "df_combdata.rename(columns={\n",
    "    'QN_3':'Datenqualität Reihe WInd', \n",
    "    'FX':'Max Windgeschwindigkeit [m/s]',\n",
    "    'FM':'Mittel Windgeschwindigkeit [m/s]',\n",
    "    'QN_4':'Datenqualität Reihe Wetter',\n",
    "    'RSK':'Niederschlagshöhe [mm]',\n",
    "    'RSKF':'Niederschlagsform',\n",
    "    'SDK':'Sonnenscheindauer [h]',\n",
    "    'SHK_TAG':'Schneehöhe [cm]'\n",
    "    }, inplace=True)\n",
    "\n",
    "print(df_combdata.head())"
   ]
  }
 ],
 "metadata": {
  "kernelspec": {
   "display_name": "Python 3",
   "language": "python",
   "name": "python3"
  },
  "language_info": {
   "codemirror_mode": {
    "name": "ipython",
    "version": 3
   },
   "file_extension": ".py",
   "mimetype": "text/x-python",
   "name": "python",
   "nbconvert_exporter": "python",
   "pygments_lexer": "ipython3",
   "version": "3.10.12"
  },
  "orig_nbformat": 4
 },
 "nbformat": 4,
 "nbformat_minor": 2
}
