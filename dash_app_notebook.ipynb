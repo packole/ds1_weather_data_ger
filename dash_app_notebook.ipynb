{
 "cells": [
  {
   "cell_type": "markdown",
   "metadata": {},
   "source": [
    "# import libraries and data"
   ]
  },
  {
   "cell_type": "markdown",
   "metadata": {},
   "source": [
    "**libraries:**"
   ]
  },
  {
   "cell_type": "code",
   "execution_count": null,
   "metadata": {},
   "outputs": [],
   "source": [
    "#reference\n",
    "#https://github.com/plotly/dash-sample-apps/tree/main/apps/dash-uber-rides-demo\n",
    "\n",
    "\n",
    "# Basics\n",
    "import pandas as pd\n",
    "import numpy as np\n",
    "# Data Visualization\n",
    "import plotly.express as px\n",
    "# Dash\n",
    "import dash\n",
    "# Layout\n",
    "import dash_bootstrap_components as dbc\n",
    "import dash_core_components as dcc\n",
    "import dash_html_components as html\n",
    "# DataTable\n",
    "import dash_table\n",
    "# Callbacks\n",
    "from dash.dependencies import Input, Output"
   ]
  },
  {
   "cell_type": "markdown",
   "metadata": {},
   "source": [
    "**data:**"
   ]
  },
  {
   "cell_type": "code",
   "execution_count": null,
   "metadata": {},
   "outputs": [],
   "source": [
    "weather_data_path = \"/home/phillip/Dokumente/repositories/ds1_weather_data_ger/data_preparation_and_transformation/weather_data_transformed.csv\"\n",
    "station_data_path ="
   ]
  }
 ],
 "metadata": {
  "language_info": {
   "name": "python"
  },
  "orig_nbformat": 4
 },
 "nbformat": 4,
 "nbformat_minor": 2
}
