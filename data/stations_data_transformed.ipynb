{
 "cells": [
  {
   "cell_type": "markdown",
   "metadata": {},
   "source": [
    "# import libraries"
   ]
  },
  {
   "cell_type": "code",
   "execution_count": 158,
   "metadata": {},
   "outputs": [],
   "source": [
    "import os\n",
    "import glob\n",
    "import pandas as pd"
   ]
  },
  {
   "cell_type": "markdown",
   "metadata": {},
   "source": [
    "# import and explore data"
   ]
  },
  {
   "cell_type": "markdown",
   "metadata": {},
   "source": [
    "**import data**"
   ]
  },
  {
   "cell_type": "code",
   "execution_count": 159,
   "metadata": {},
   "outputs": [
    {
     "name": "stdout",
     "output_type": "stream",
     "text": [
      "      Stati  ons_id vo  n_datum b  is_datum S  tation  shoehe geoBr  \\\n",
      "0     -----  ------ --  ------- -  -------- -  ------  ------ -----   \n",
      "1     00001   19370101   19860630         NaN     478       47.8413   \n",
      "2     00003   18910101   20110331         NaN     202       50.7827   \n",
      "3     00011   19800901   20200930         NaN     680       47.9736   \n",
      "4     00044   19690101   20230613         NaN      44       52.9336   \n",
      "...     ...        ...        ...         ...     ...           ...   \n",
      "1346  19607   19720501   20010430         NaN     615       50.6952   \n",
      "1347  19617   19410101   20061231         NaN     310       49.7391   \n",
      "1348  19631   19060101   19691231         NaN     268       50.8083   \n",
      "1349  19647   19510101   20051031         NaN     178       49.4547   \n",
      "1350  19774   19710819   19940228         NaN     174       51.4814   \n",
      "\n",
      "      eite geoLa  enge Stationsname Bu                                ndesland  \n",
      "0     ---- -----  ---- ---------------   -------------------------- ----------  \n",
      "1         8.8493                  Aach                       Baden-Württemberg  \n",
      "2         6.0941                Aachen                     Nordrhein-Westfalen  \n",
      "3         8.5205  Donaueschingen (Land  eplatz)              Baden-Württemberg  \n",
      "4         8.2370          Großenkneten                           Niedersachsen  \n",
      "...          ...                   ...                                     ...  \n",
      "1346     13.4972  Cämmerswalde-Rausche            nbach                Sachsen  \n",
      "1347     10.6039           Burghaslach                                  Bayern  \n",
      "1348     10.2294             Salzungen                               Thüringen  \n",
      "1349      8.9794       Eberbach/Neckar                       Baden-Württemberg  \n",
      "1350     10.8057  Nordhausen (Umspannw          erk)                 Thüringen  \n",
      "\n",
      "[1351 rows x 9 columns]\n"
     ]
    }
   ],
   "source": [
    "raw_data_path = \"/home/phillip/Dokumente/repositories/ds1_weather_data_ger/data/raw_data/raw_data_stations/stations_basedata.txt\"\n",
    "\n",
    "df_data_raw = pd.read_fwf(raw_data_path\n",
    " ,widths=[5,9,9,10,6,12,10,20,50]\n",
    " ,encoding='ISO-8859-1')\n",
    "print(df_data_raw)\n",
    "\n",
    "#widths=[5,9,9,10,6,12,10,20,50]\n"
   ]
  },
  {
   "cell_type": "markdown",
   "metadata": {},
   "source": [
    "**explore data**"
   ]
  },
  {
   "cell_type": "code",
   "execution_count": 160,
   "metadata": {},
   "outputs": [
    {
     "name": "stdout",
     "output_type": "stream",
     "text": [
      "<class 'pandas.core.frame.DataFrame'>\n",
      "RangeIndex: 1351 entries, 0 to 1350\n",
      "Data columns (total 9 columns):\n",
      " #   Column                Non-Null Count  Dtype \n",
      "---  ------                --------------  ----- \n",
      " 0   Stati                 1351 non-null   object\n",
      " 1   ons_id vo             1351 non-null   object\n",
      " 2   n_datum b             1351 non-null   object\n",
      " 3   is_datum S            1 non-null      object\n",
      " 4   tation                1351 non-null   object\n",
      " 5   shoehe geoBr          1351 non-null   object\n",
      " 6   eite geoLa            1351 non-null   object\n",
      " 7   enge Stationsname Bu  1351 non-null   object\n",
      " 8   ndesland              1351 non-null   object\n",
      "dtypes: object(9)\n",
      "memory usage: 95.1+ KB\n"
     ]
    },
    {
     "data": {
      "text/html": [
       "<div>\n",
       "<style scoped>\n",
       "    .dataframe tbody tr th:only-of-type {\n",
       "        vertical-align: middle;\n",
       "    }\n",
       "\n",
       "    .dataframe tbody tr th {\n",
       "        vertical-align: top;\n",
       "    }\n",
       "\n",
       "    .dataframe thead th {\n",
       "        text-align: right;\n",
       "    }\n",
       "</style>\n",
       "<table border=\"1\" class=\"dataframe\">\n",
       "  <thead>\n",
       "    <tr style=\"text-align: right;\">\n",
       "      <th></th>\n",
       "      <th>Stati</th>\n",
       "      <th>ons_id vo</th>\n",
       "      <th>n_datum b</th>\n",
       "      <th>is_datum S</th>\n",
       "      <th>tation</th>\n",
       "      <th>shoehe geoBr</th>\n",
       "      <th>eite geoLa</th>\n",
       "      <th>enge Stationsname Bu</th>\n",
       "      <th>ndesland</th>\n",
       "    </tr>\n",
       "  </thead>\n",
       "  <tbody>\n",
       "    <tr>\n",
       "      <th>0</th>\n",
       "      <td>-----</td>\n",
       "      <td>------ --</td>\n",
       "      <td>------- -</td>\n",
       "      <td>-------- -</td>\n",
       "      <td>------</td>\n",
       "      <td>------ -----</td>\n",
       "      <td>---- -----</td>\n",
       "      <td>---- ---------------</td>\n",
       "      <td>-------------------------- ----------</td>\n",
       "    </tr>\n",
       "    <tr>\n",
       "      <th>1</th>\n",
       "      <td>00001</td>\n",
       "      <td>19370101</td>\n",
       "      <td>19860630</td>\n",
       "      <td>NaN</td>\n",
       "      <td>478</td>\n",
       "      <td>47.8413</td>\n",
       "      <td>8.8493</td>\n",
       "      <td>Aach</td>\n",
       "      <td>Baden-Württemberg</td>\n",
       "    </tr>\n",
       "    <tr>\n",
       "      <th>2</th>\n",
       "      <td>00003</td>\n",
       "      <td>18910101</td>\n",
       "      <td>20110331</td>\n",
       "      <td>NaN</td>\n",
       "      <td>202</td>\n",
       "      <td>50.7827</td>\n",
       "      <td>6.0941</td>\n",
       "      <td>Aachen</td>\n",
       "      <td>Nordrhein-Westfalen</td>\n",
       "    </tr>\n",
       "    <tr>\n",
       "      <th>3</th>\n",
       "      <td>00011</td>\n",
       "      <td>19800901</td>\n",
       "      <td>20200930</td>\n",
       "      <td>NaN</td>\n",
       "      <td>680</td>\n",
       "      <td>47.9736</td>\n",
       "      <td>8.5205</td>\n",
       "      <td>Donaueschingen (Land</td>\n",
       "      <td>eplatz)              Baden-Württemberg</td>\n",
       "    </tr>\n",
       "    <tr>\n",
       "      <th>4</th>\n",
       "      <td>00044</td>\n",
       "      <td>19690101</td>\n",
       "      <td>20230613</td>\n",
       "      <td>NaN</td>\n",
       "      <td>44</td>\n",
       "      <td>52.9336</td>\n",
       "      <td>8.2370</td>\n",
       "      <td>Großenkneten</td>\n",
       "      <td>Niedersachsen</td>\n",
       "    </tr>\n",
       "  </tbody>\n",
       "</table>\n",
       "</div>"
      ],
      "text/plain": [
       "   Stati  ons_id vo  n_datum b  is_datum S  tation  shoehe geoBr  eite geoLa  \\\n",
       "0  -----  ------ --  ------- -  -------- -  ------  ------ -----  ---- -----   \n",
       "1  00001   19370101   19860630         NaN     478       47.8413      8.8493   \n",
       "2  00003   18910101   20110331         NaN     202       50.7827      6.0941   \n",
       "3  00011   19800901   20200930         NaN     680       47.9736      8.5205   \n",
       "4  00044   19690101   20230613         NaN      44       52.9336      8.2370   \n",
       "\n",
       "   enge Stationsname Bu                                ndesland  \n",
       "0  ---- ---------------   -------------------------- ----------  \n",
       "1                  Aach                       Baden-Württemberg  \n",
       "2                Aachen                     Nordrhein-Westfalen  \n",
       "3  Donaueschingen (Land  eplatz)              Baden-Württemberg  \n",
       "4          Großenkneten                           Niedersachsen  "
      ]
     },
     "execution_count": 160,
     "metadata": {},
     "output_type": "execute_result"
    }
   ],
   "source": [
    "#show number of columns and rows\n",
    "df_data_raw.shape\n",
    "\n",
    "# show column names and data types\n",
    "df_data_raw.info() \n",
    "\n",
    "df_data_raw.head() "
   ]
  },
  {
   "cell_type": "markdown",
   "metadata": {},
   "source": [
    "**findings for the transformation**\n",
    "- row 0 has senseless values -> delete\n",
    "- read in of data is not easy, there is no seperator -> manually edit columns\n",
    "- not all columns and rows are needed -> clear\n",
    "- no clear datatpyes -> datatypes has to be definied           "
   ]
  },
  {
   "cell_type": "markdown",
   "metadata": {},
   "source": [
    "# data transformation"
   ]
  },
  {
   "cell_type": "markdown",
   "metadata": {},
   "source": [
    "**rename columns and delete not needed columns/rows**"
   ]
  },
  {
   "cell_type": "code",
   "execution_count": 161,
   "metadata": {},
   "outputs": [
    {
     "name": "stdout",
     "output_type": "stream",
     "text": [
      "  station_id date_commissioning heigth_station[m] geo_width geo_length\n",
      "1      00001           19370101               478   47.8413     8.8493\n",
      "2      00003           18910101               202   50.7827     6.0941\n",
      "3      00011           19800901               680   47.9736     8.5205\n",
      "4      00044           19690101                44   52.9336     8.2370\n",
      "5      00052           19690101                46   53.6623    10.1990\n"
     ]
    }
   ],
   "source": [
    "#rename columns\n",
    "df_data_raw.rename(columns={\n",
    "    'Stati':'station_id',\n",
    "    'ons_id vo':'date_commissioning', \n",
    "    'tation':'heigth_station[m]',\n",
    "    'shoehe geoBr':'geo_width',\n",
    "    'eite geoLa':'geo_length'\n",
    "    }\n",
    "    ,inplace=True)\n",
    "\n",
    "#delete columns\n",
    "columns_to_drop = ['n_datum b','is_datum S','enge Stationsname Bu','ndesland']\n",
    "df_data_raw = df_data_raw.drop(columns=columns_to_drop)\n",
    "\n",
    "#delete rows\n",
    "df_data_raw  = df_data_raw.drop(0)\n",
    "\n",
    "print(df_data_raw.head())"
   ]
  },
  {
   "cell_type": "markdown",
   "metadata": {},
   "source": [
    "**edit data types**"
   ]
  },
  {
   "cell_type": "code",
   "execution_count": 162,
   "metadata": {},
   "outputs": [
    {
     "name": "stdout",
     "output_type": "stream",
     "text": [
      "station_id                     int64\n",
      "date_commissioning    datetime64[ns]\n",
      "heigth_station[m]              int64\n",
      "geo_width                    float64\n",
      "geo_length                   float64\n",
      "dtype: object\n",
      "      station_id date_commissioning  heigth_station[m]  geo_width  geo_length\n",
      "1              1         1937-01-01                478    47.8413      8.8493\n",
      "2              3         1891-01-01                202    50.7827      6.0941\n",
      "3             11         1980-09-01                680    47.9736      8.5205\n",
      "4             44         1969-01-01                 44    52.9336      8.2370\n",
      "5             52         1969-01-01                 46    53.6623     10.1990\n",
      "...          ...                ...                ...        ...         ...\n",
      "1346       19607         1972-05-01                615    50.6952     13.4972\n",
      "1347       19617         1941-01-01                310    49.7391     10.6039\n",
      "1348       19631         1906-01-01                268    50.8083     10.2294\n",
      "1349       19647         1951-01-01                178    49.4547      8.9794\n",
      "1350       19774         1971-08-19                174    51.4814     10.8057\n",
      "\n",
      "[1350 rows x 5 columns]\n"
     ]
    }
   ],
   "source": [
    "df_data_raw['date_commissioning'] = pd.to_datetime(df_data_raw['date_commissioning'], format='%Y%m%d')\n",
    "\n",
    "df_data_raw['station_id'] = df_data_raw['station_id'].astype(int)\n",
    "df_data_raw['geo_length'] = df_data_raw['geo_length'].astype(float)\n",
    "df_data_raw['geo_width'] = df_data_raw['geo_width'].astype(float)\n",
    "df_data_raw['heigth_station[m]'] = df_data_raw['heigth_station[m]'].astype(int)\n",
    "\n",
    "print(df_data_raw.dtypes)\n",
    "print(df_data_raw)"
   ]
  },
  {
   "cell_type": "markdown",
   "metadata": {},
   "source": [
    "**safe necessary entry**"
   ]
  },
  {
   "cell_type": "code",
   "execution_count": 163,
   "metadata": {},
   "outputs": [
    {
     "name": "stdout",
     "output_type": "stream",
     "text": [
      "     station_id date_commissioning  heigth_station[m]  geo_width  geo_length  \\\n",
      "409        1975         1936-01-01                 11    53.6332      9.9881   \n",
      "531        2564         1974-01-01                 28    54.3776     10.1424   \n",
      "551        2667         1957-07-01                 92    50.8645      7.1575   \n",
      "604        2932         1934-01-01                131    51.4347     12.2396   \n",
      "703        3379         1954-06-01                515    48.1632     11.5429   \n",
      "985        4928         1958-01-01                314    48.8281      9.2000   \n",
      "\n",
      "          city  \n",
      "409    HAMBURG  \n",
      "531       KIEL  \n",
      "551      KOELN  \n",
      "604    LEIPZIG  \n",
      "703   MUENCHEN  \n",
      "985  STUTTGART  \n"
     ]
    }
   ],
   "source": [
    "#necessary:\n",
    "    # HAMBURG   > station ID = 1975\n",
    "    # LEIPZIG   > station ID = 2932\n",
    "    # KIEL      > station ID = 2564\n",
    "    # KÖLN      > station ID = 2667\n",
    "    # MÜNCHEN   > station ID = 3379\n",
    "    # STUTTGART > station ID = 4928\n",
    "\n",
    "relevant_station_ids = [1975,2932,2564,2667,3379,4928]\n",
    "\n",
    "# Behalten Sie nur die Zeilen, in denen 'Spalte' einen der Werte in behaelt_werte enthält\n",
    "df_data_raw = df_data_raw[df_data_raw['station_id'].isin(relevant_station_ids)]\n",
    "\n",
    "df_data_raw['city'] = df_data_raw['station_id']\n",
    "df_data_raw['city'] = df_data_raw['city'].replace([1975,2932,2564,2667,3379,4928],['HAMBURG','LEIPZIG','KIEL','KOELN','MUENCHEN','STUTTGART'])\n",
    "\n",
    "print(df_data_raw)\n",
    "\n"
   ]
  },
  {
   "cell_type": "markdown",
   "metadata": {},
   "source": [
    "# final export data in csv"
   ]
  },
  {
   "cell_type": "code",
   "execution_count": 164,
   "metadata": {},
   "outputs": [],
   "source": [
    "#OUTPUT PATH\n",
    "cleared_data_saving_path = \"/home/phillip/Dokumente/repositories/ds1_weather_data_ger/data\"\n",
    "\n",
    "#OUTPUT ACTION\n",
    "df_data_raw.to_csv(os.path.join(cleared_data_saving_path, \"station_data_transformed.csv\"), index=False, encoding='utf-8-sig')"
   ]
  }
 ],
 "metadata": {
  "kernelspec": {
   "display_name": "Python 3",
   "language": "python",
   "name": "python3"
  },
  "language_info": {
   "codemirror_mode": {
    "name": "ipython",
    "version": 3
   },
   "file_extension": ".py",
   "mimetype": "text/x-python",
   "name": "python",
   "nbconvert_exporter": "python",
   "pygments_lexer": "ipython3",
   "version": "3.10.12"
  },
  "orig_nbformat": 4
 },
 "nbformat": 4,
 "nbformat_minor": 2
}
