{
 "cells": [
  {
   "cell_type": "markdown",
   "metadata": {},
   "source": [
    "# import libraries"
   ]
  },
  {
   "cell_type": "code",
   "execution_count": 1,
   "metadata": {},
   "outputs": [],
   "source": [
    "import os\n",
    "import glob\n",
    "import pandas as pd"
   ]
  },
  {
   "cell_type": "markdown",
   "metadata": {},
   "source": [
    "# import and explore data"
   ]
  },
  {
   "cell_type": "markdown",
   "metadata": {},
   "source": [
    "**import data**"
   ]
  },
  {
   "cell_type": "code",
   "execution_count": 4,
   "metadata": {},
   "outputs": [
    {
     "name": "stdout",
     "output_type": "stream",
     "text": [
      "      Stations_id von_datum bis_datum  \\\n",
      "0     ----------- --------- ---------   \n",
      "1             00001 19370101 19860630   \n",
      "2             00003 18910101 20110331   \n",
      "3             00011 19800901 20200930   \n",
      "4             00044 19690101 20230613   \n",
      "...                               ...   \n",
      "1346          19607 19720501 20010430   \n",
      "1347          19617 19410101 20061231   \n",
      "1348          19631 19060101 19691231   \n",
      "1349          19647 19510101 20051031   \n",
      "1350          19774 19710819 19940228   \n",
      "\n",
      "     Stationshoehe geoBreite geoLaenge Stationsname Bundesland  \n",
      "0     ------------- --------- --------- ------------...         \n",
      "1     478     47.8413    8.8493 Aach                ...         \n",
      "2     202     50.7827    6.0941 Aachen              ...         \n",
      "3     680     47.9736    8.5205 Donaueschingen (Land...         \n",
      "4     44     52.9336    8.2370 Großenkneten         ...         \n",
      "...                                                 ...         \n",
      "1346  615     50.6952   13.4972 Cämmerswalde-Rausche...         \n",
      "1347  310     49.7391   10.6039 Burghaslach         ...         \n",
      "1348  268     50.8083   10.2294 Salzungen           ...         \n",
      "1349  178     49.4547    8.9794 Eberbach/Neckar     ...         \n",
      "1350  174     51.4814   10.8057 Nordhausen (Umspannw...         \n",
      "\n",
      "[1351 rows x 2 columns]\n"
     ]
    }
   ],
   "source": [
    "raw_data_path = \"/home/phillip/Dokumente/repositories/ds1_weather_data_ger/data/raw_data/raw_data_stations/stations_basedata.txt\"\n",
    "\n",
    "df_data_raw = pd.read_fwf(raw_data_path, encoding='ISO-8859-1')\n",
    "print(df_data_raw)"
   ]
  },
  {
   "cell_type": "markdown",
   "metadata": {},
   "source": [
    "**explore data**"
   ]
  },
  {
   "cell_type": "code",
   "execution_count": 6,
   "metadata": {},
   "outputs": [
    {
     "name": "stdout",
     "output_type": "stream",
     "text": [
      "<class 'pandas.core.frame.DataFrame'>\n",
      "RangeIndex: 1351 entries, 0 to 1350\n",
      "Data columns (total 2 columns):\n",
      " #   Column                                                     Non-Null Count  Dtype \n",
      "---  ------                                                     --------------  ----- \n",
      " 0   Stations_id von_datum bis_datum                            1351 non-null   object\n",
      " 1   Stationshoehe geoBreite geoLaenge Stationsname Bundesland  1351 non-null   object\n",
      "dtypes: object(2)\n",
      "memory usage: 21.2+ KB\n"
     ]
    },
    {
     "data": {
      "text/html": [
       "<div>\n",
       "<style scoped>\n",
       "    .dataframe tbody tr th:only-of-type {\n",
       "        vertical-align: middle;\n",
       "    }\n",
       "\n",
       "    .dataframe tbody tr th {\n",
       "        vertical-align: top;\n",
       "    }\n",
       "\n",
       "    .dataframe thead th {\n",
       "        text-align: right;\n",
       "    }\n",
       "</style>\n",
       "<table border=\"1\" class=\"dataframe\">\n",
       "  <thead>\n",
       "    <tr style=\"text-align: right;\">\n",
       "      <th></th>\n",
       "      <th>Stations_id von_datum bis_datum</th>\n",
       "      <th>Stationshoehe geoBreite geoLaenge Stationsname Bundesland</th>\n",
       "    </tr>\n",
       "  </thead>\n",
       "  <tbody>\n",
       "    <tr>\n",
       "      <th>0</th>\n",
       "      <td>----------- --------- ---------</td>\n",
       "      <td>------------- --------- --------- ------------...</td>\n",
       "    </tr>\n",
       "    <tr>\n",
       "      <th>1</th>\n",
       "      <td>00001 19370101 19860630</td>\n",
       "      <td>478     47.8413    8.8493 Aach                ...</td>\n",
       "    </tr>\n",
       "    <tr>\n",
       "      <th>2</th>\n",
       "      <td>00003 18910101 20110331</td>\n",
       "      <td>202     50.7827    6.0941 Aachen              ...</td>\n",
       "    </tr>\n",
       "    <tr>\n",
       "      <th>3</th>\n",
       "      <td>00011 19800901 20200930</td>\n",
       "      <td>680     47.9736    8.5205 Donaueschingen (Land...</td>\n",
       "    </tr>\n",
       "    <tr>\n",
       "      <th>4</th>\n",
       "      <td>00044 19690101 20230613</td>\n",
       "      <td>44     52.9336    8.2370 Großenkneten         ...</td>\n",
       "    </tr>\n",
       "  </tbody>\n",
       "</table>\n",
       "</div>"
      ],
      "text/plain": [
       "   Stations_id von_datum bis_datum  \\\n",
       "0  ----------- --------- ---------   \n",
       "1          00001 19370101 19860630   \n",
       "2          00003 18910101 20110331   \n",
       "3          00011 19800901 20200930   \n",
       "4          00044 19690101 20230613   \n",
       "\n",
       "  Stationshoehe geoBreite geoLaenge Stationsname Bundesland  \n",
       "0  ------------- --------- --------- ------------...         \n",
       "1  478     47.8413    8.8493 Aach                ...         \n",
       "2  202     50.7827    6.0941 Aachen              ...         \n",
       "3  680     47.9736    8.5205 Donaueschingen (Land...         \n",
       "4  44     52.9336    8.2370 Großenkneten         ...         "
      ]
     },
     "execution_count": 6,
     "metadata": {},
     "output_type": "execute_result"
    }
   ],
   "source": [
    "#show number of columns and rows\n",
    "df_data_raw .shape\n",
    "\n",
    "# show column names and data types\n",
    "df_data_raw.info() \n",
    "\n",
    "df_data_raw.head() "
   ]
  }
 ],
 "metadata": {
  "kernelspec": {
   "display_name": "Python 3",
   "language": "python",
   "name": "python3"
  },
  "language_info": {
   "codemirror_mode": {
    "name": "ipython",
    "version": 3
   },
   "file_extension": ".py",
   "mimetype": "text/x-python",
   "name": "python",
   "nbconvert_exporter": "python",
   "pygments_lexer": "ipython3",
   "version": "3.10.12"
  },
  "orig_nbformat": 4
 },
 "nbformat": 4,
 "nbformat_minor": 2
}
